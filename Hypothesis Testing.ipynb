{
 "cells": [
  {
   "cell_type": "markdown",
   "id": "866b71a1",
   "metadata": {},
   "source": [
    "## Name : Muhammad Usman\n",
    "## Roll No : 2K22/CSM/73"
   ]
  },
  {
   "cell_type": "code",
   "execution_count": 1,
   "id": "fec8f62c",
   "metadata": {},
   "outputs": [],
   "source": [
    "import pandas as pd\n",
    "import numpy as np\n",
    "import seaborn as sns\n",
    "import scipy.stats as stats"
   ]
  },
  {
   "cell_type": "code",
   "execution_count": 2,
   "id": "ed569cea",
   "metadata": {},
   "outputs": [],
   "source": [
    "import warnings \n",
    "warnings.filterwarnings('ignore')"
   ]
  },
  {
   "cell_type": "code",
   "execution_count": 3,
   "id": "7e9a899c",
   "metadata": {},
   "outputs": [
    {
     "data": {
      "text/html": [
       "<div>\n",
       "<style scoped>\n",
       "    .dataframe tbody tr th:only-of-type {\n",
       "        vertical-align: middle;\n",
       "    }\n",
       "\n",
       "    .dataframe tbody tr th {\n",
       "        vertical-align: top;\n",
       "    }\n",
       "\n",
       "    .dataframe thead th {\n",
       "        text-align: right;\n",
       "    }\n",
       "</style>\n",
       "<table border=\"1\" class=\"dataframe\">\n",
       "  <thead>\n",
       "    <tr style=\"text-align: right;\">\n",
       "      <th></th>\n",
       "      <th>ROLL NO</th>\n",
       "      <th>NAME</th>\n",
       "      <th>GENDER</th>\n",
       "      <th>MARKS</th>\n",
       "      <th>GRADE</th>\n",
       "      <th>PASS/ FAIL</th>\n",
       "    </tr>\n",
       "  </thead>\n",
       "  <tbody>\n",
       "    <tr>\n",
       "      <th>0</th>\n",
       "      <td>2K22/CSM/1</td>\n",
       "      <td>AAMNAT</td>\n",
       "      <td>F</td>\n",
       "      <td>80</td>\n",
       "      <td>A</td>\n",
       "      <td>PASS</td>\n",
       "    </tr>\n",
       "    <tr>\n",
       "      <th>1</th>\n",
       "      <td>2K22/CSM/2</td>\n",
       "      <td>ABDUL QADEER</td>\n",
       "      <td>M</td>\n",
       "      <td>80</td>\n",
       "      <td>A</td>\n",
       "      <td>PASS</td>\n",
       "    </tr>\n",
       "    <tr>\n",
       "      <th>2</th>\n",
       "      <td>2K22/CSM/3</td>\n",
       "      <td>ABDUL RAOUF</td>\n",
       "      <td>M</td>\n",
       "      <td>60</td>\n",
       "      <td>C</td>\n",
       "      <td>PASS</td>\n",
       "    </tr>\n",
       "    <tr>\n",
       "      <th>3</th>\n",
       "      <td>2K22/CSM/4</td>\n",
       "      <td>ABDUL WAHID</td>\n",
       "      <td>M</td>\n",
       "      <td>70</td>\n",
       "      <td>B</td>\n",
       "      <td>PASS</td>\n",
       "    </tr>\n",
       "    <tr>\n",
       "      <th>4</th>\n",
       "      <td>2K22/CSM/5</td>\n",
       "      <td>ABDULLAH</td>\n",
       "      <td>M</td>\n",
       "      <td>80</td>\n",
       "      <td>A</td>\n",
       "      <td>PASS</td>\n",
       "    </tr>\n",
       "  </tbody>\n",
       "</table>\n",
       "</div>"
      ],
      "text/plain": [
       "      ROLL NO          NAME GENDER  MARKS GRADE PASS/ FAIL\n",
       "0  2K22/CSM/1        AAMNAT      F     80     A       PASS\n",
       "1  2K22/CSM/2  ABDUL QADEER      M     80     A       PASS\n",
       "2  2K22/CSM/3   ABDUL RAOUF      M     60     C       PASS\n",
       "3  2K22/CSM/4   ABDUL WAHID      M     70     B       PASS\n",
       "4  2K22/CSM/5      ABDULLAH      M     80     A       PASS"
      ]
     },
     "execution_count": 3,
     "metadata": {},
     "output_type": "execute_result"
    }
   ],
   "source": [
    "data = pd.read_csv('cls.csv')\n",
    "\n",
    "data.head()"
   ]
  },
  {
   "cell_type": "code",
   "execution_count": 4,
   "id": "cf73d0ec",
   "metadata": {},
   "outputs": [
    {
     "name": "stdout",
     "output_type": "stream",
     "text": [
      "<class 'pandas.core.frame.DataFrame'>\n",
      "RangeIndex: 115 entries, 0 to 114\n",
      "Data columns (total 6 columns):\n",
      " #   Column      Non-Null Count  Dtype \n",
      "---  ------      --------------  ----- \n",
      " 0   ROLL NO     115 non-null    object\n",
      " 1   NAME        115 non-null    object\n",
      " 2   GENDER      115 non-null    object\n",
      " 3   MARKS       115 non-null    int64 \n",
      " 4   GRADE       115 non-null    object\n",
      " 5   PASS/ FAIL  115 non-null    object\n",
      "dtypes: int64(1), object(5)\n",
      "memory usage: 5.5+ KB\n"
     ]
    }
   ],
   "source": [
    "data.info()"
   ]
  },
  {
   "cell_type": "code",
   "execution_count": 5,
   "id": "0fb44537",
   "metadata": {},
   "outputs": [
    {
     "data": {
      "text/plain": [
       "count    115.000000\n",
       "mean      72.521739\n",
       "std       14.203624\n",
       "min       25.000000\n",
       "25%       65.000000\n",
       "50%       76.000000\n",
       "75%       83.000000\n",
       "max       94.000000\n",
       "Name: MARKS, dtype: float64"
      ]
     },
     "execution_count": 5,
     "metadata": {},
     "output_type": "execute_result"
    }
   ],
   "source": [
    "data['MARKS'].describe()"
   ]
  },
  {
   "cell_type": "markdown",
   "id": "fe358e20",
   "metadata": {},
   "source": [
    "## Steps in Hypothesis Testing¶\n",
    "### Evaluate and interpret the result\n",
    "First, let's get all observations for females and males by using the loc() function."
   ]
  },
  {
   "cell_type": "code",
   "execution_count": 6,
   "id": "66b63862",
   "metadata": {},
   "outputs": [],
   "source": [
    "female=data.loc[data.GENDER==\"F\"]\n",
    "male=data.loc[data.GENDER==\"M\"]"
   ]
  },
  {
   "cell_type": "markdown",
   "id": "d63ac54c",
   "metadata": {},
   "source": [
    "Now, let's select the marks values for females and males."
   ]
  },
  {
   "cell_type": "code",
   "execution_count": 7,
   "id": "832138a8",
   "metadata": {},
   "outputs": [],
   "source": [
    "f_marks = female.MARKS\n",
    "m_marks = male.MARKS"
   ]
  },
  {
   "cell_type": "markdown",
   "id": "7544bdc3",
   "metadata": {},
   "source": [
    "Now, we will plot the distribution for females and males using seaborn's distplot() function."
   ]
  },
  {
   "cell_type": "code",
   "execution_count": 8,
   "id": "36338215",
   "metadata": {},
   "outputs": [
    {
     "data": {
      "text/plain": [
       "<Axes: xlabel='MARKS', ylabel='Density'>"
      ]
     },
     "execution_count": 8,
     "metadata": {},
     "output_type": "execute_result"
    },
    {
     "data": {
      "image/png": "[encoded data removed]",
      "text/plain": [
       "<Figure size 640x480 with 1 Axes>"
      ]
     },
     "metadata": {},
     "output_type": "display_data"
    }
   ],
   "source": [
    "sns.distplot(f_marks,color='green',hist=False)\n",
    "sns.distplot(m_marks,color='red',hist=False)"
   ]
  },
  {
   "cell_type": "code",
   "execution_count": 9,
   "id": "1d28ef3f",
   "metadata": {},
   "outputs": [
    {
     "data": {
      "text/plain": [
       "75.56818181818181"
      ]
     },
     "execution_count": 9,
     "metadata": {},
     "output_type": "execute_result"
    }
   ],
   "source": [
    "female.MARKS.mean()"
   ]
  },
  {
   "cell_type": "code",
   "execution_count": 10,
   "id": "eb6a9f32",
   "metadata": {},
   "outputs": [
    {
     "data": {
      "text/plain": [
       "70.63380281690141"
      ]
     },
     "execution_count": 10,
     "metadata": {},
     "output_type": "execute_result"
    }
   ],
   "source": [
    "male.MARKS.mean()"
   ]
  },
  {
   "cell_type": "markdown",
   "id": "a17b8598",
   "metadata": {},
   "source": [
    "Next, we will obtain our statistics, t-value and p-value. We will use scipy.stats library and ttest_ind() function to calculate these parameters."
   ]
  },
  {
   "cell_type": "code",
   "execution_count": 11,
   "id": "f9546a32",
   "metadata": {},
   "outputs": [
    {
     "name": "stdout",
     "output_type": "stream",
     "text": [
      "t_value1 =  1.8292085770026596 , p_value1 =  0.07000514828573609\n"
     ]
    }
   ],
   "source": [
    "alpha=0.05\n",
    "t_value1, p_value1 = stats.ttest_ind(f_marks, m_marks)\n",
    "print(\"t_value1 = \",t_value1, \", p_value1 = \", p_value1)"
   ]
  },
  {
   "cell_type": "markdown",
   "id": "10e3ba6b",
   "metadata": {},
   "source": [
    "Next, although optional, it is useful to print 'if/else' statements to make our conclusions about the the hypothesis."
   ]
  },
  {
   "cell_type": "code",
   "execution_count": 12,
   "id": "8a63be56",
   "metadata": {},
   "outputs": [
    {
     "name": "stdout",
     "output_type": "stream",
     "text": [
      "Conclusion: since p_value 0.07000514828573609 is greater than alpha 0.05 \n",
      "Fail to reject the null hypothesis that there is a difference between marks of females and marks of males.\n"
     ]
    }
   ],
   "source": [
    "if p_value1 <alpha:\n",
    "    print(\"Conclusion: since p_value {} is less than alpha {} \". format (p_value1,alpha))\n",
    "    print(\"Reject the null hypothesis that there is no difference between marks of females and marks of males.\")\n",
    "    \n",
    "else:\n",
    "    print(\"Conclusion: since p_value {} is greater than alpha {} \". format (p_value1,alpha))\n",
    "    print(\"Fail to reject the null hypothesis that there is a difference between marks of females and marks of males.\")"
   ]
  },
  {
   "cell_type": "markdown",
   "id": "113c55b1",
   "metadata": {},
   "source": [
    "Conclusion: We fail to reject the null hypothesis and can conclude that there is no difference between the female and male marks."
   ]
  },
  {
   "cell_type": "code",
   "execution_count": null,
   "id": "87f42af1",
   "metadata": {},
   "outputs": [],
   "source": []
  }
 ],
 "metadata": {
  "kernelspec": {
   "display_name": "Python 3 (ipykernel)",
   "language": "python",
   "name": "python3"
  },
  "language_info": {
   "codemirror_mode": {
    "name": "ipython",
    "version": 3
   },
   "file_extension": ".py",
   "mimetype": "text/x-python",
   "name": "python",
   "nbconvert_exporter": "python",
   "pygments_lexer": "ipython3",
   "version": "3.11.5"
  }
 },
 "nbformat": 4,
 "nbformat_minor": 5
}
